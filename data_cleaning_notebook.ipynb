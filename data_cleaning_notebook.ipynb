{
 "cells": [
  {
   "cell_type": "markdown",
   "id": "da7d0009",
   "metadata": {},
   "source": [
    "# Data Cleaning and Preprocessing Notebook\n",
    "\n",
    "This notebook performs common data preprocessing operations:\n",
    "\n",
    "1. Identify and handle missing values\n",
    "2. Remove duplicates\n",
    "3. Standardize text and categorical values\n",
    "4. Convert date formats\n",
    "5. Rename column headers\n",
    "6. Fix data types"
   ]
  },
  {
   "cell_type": "code",
   "execution_count": null,
   "id": "e2b7cc98",
   "metadata": {},
   "outputs": [],
   "source": [
    "import pandas as pd\n",
    "import numpy as np\n",
    "\n",
    "# Step 1: Create a sample dataset with issues\n",
    "data = {\n",
    "    'ID ': [1, 2, 3, 4, 4, 5, None, 7, 8, 9],\n",
    "    'Name ': ['Alice', 'Bob', 'Charlie', 'David', 'David', 'Eve', None, 'Frank', 'Grace', 'Henry'],\n",
    "    'Gender ': ['F', 'Male', 'M', 'male', 'Male', 'FEMALE', 'f', 'M', 'F', None],\n",
    "    'Country ': ['USA', 'usa', 'INDIA', 'India', 'UK', 'U.K.', 'Canada', None, 'canada', 'INDIA'],\n",
    "    'Age ': [25, 30, np.nan, 45, 45, 28, 33, 'Forty', 29, 31],\n",
    "    'Join Date ': ['2021-05-20', '15/06/2020', '2020.07.01', '2021/08/10', '2021/08/10', '9-5-2021', None, '2022-01-02', '03-02-2020', '2020-03-11']\n",
    "}\n",
    "\n",
    "raw_df = pd.DataFrame(data)\n",
    "raw_df.head()"
   ]
  },
  {
   "cell_type": "code",
   "execution_count": null,
   "id": "b01fa60a",
   "metadata": {},
   "outputs": [],
   "source": [
    "# Step 2: Handle missing values\n",
    "clean_df = raw_df.copy()\n",
    "clean_df = clean_df.dropna(subset=['Name '])\n",
    "clean_df['Age '] = clean_df['Age '].replace('Forty', np.nan)\n",
    "clean_df['Age '] = clean_df['Age '].astype(float)"
   ]
  },
  {
   "cell_type": "code",
   "execution_count": null,
   "id": "9a1646b9",
   "metadata": {},
   "outputs": [],
   "source": [
    "# Step 3: Remove duplicates\n",
    "clean_df = clean_df.drop_duplicates()"
   ]
  },
  {
   "cell_type": "code",
   "execution_count": null,
   "id": "cb2eaf40",
   "metadata": {},
   "outputs": [],
   "source": [
    "# Step 4: Standardize text values\n",
    "clean_df['Gender '] = clean_df['Gender '].str.strip().str.lower().replace({'f': 'female', 'm': 'male'})\n",
    "clean_df['Country '] = clean_df['Country '].str.replace('.', '', regex=False).str.strip().str.title()"
   ]
  },
  {
   "cell_type": "code",
   "execution_count": null,
   "id": "5ccc37cd",
   "metadata": {},
   "outputs": [],
   "source": [
    "# Step 5: Convert date formats\n",
    "clean_df['Join Date '] = pd.to_datetime(clean_df['Join Date '], errors='coerce', dayfirst=True)"
   ]
  },
  {
   "cell_type": "code",
   "execution_count": null,
   "id": "32270028",
   "metadata": {},
   "outputs": [],
   "source": [
    "# Step 6: Rename columns\n",
    "clean_df.columns = clean_df.columns.str.strip().str.lower().str.replace(' ', '_')"
   ]
  },
  {
   "cell_type": "code",
   "execution_count": null,
   "id": "15e5ef3c",
   "metadata": {},
   "outputs": [],
   "source": [
    "# Step 7: Fix data types\n",
    "clean_df['age'] = clean_df['age'].astype('Int64')"
   ]
  },
  {
   "cell_type": "code",
   "execution_count": null,
   "id": "d51d7f9c",
   "metadata": {},
   "outputs": [],
   "source": [
    "# Save cleaned dataset\n",
    "clean_df.to_csv('cleaned_dataset.csv', index=False)\n",
    "\n",
    "clean_summary = {\n",
    "    'initial_rows': len(raw_df),\n",
    "    'after_cleaning_rows': len(clean_df),\n",
    "    'missing_values_handled': raw_df.isnull().sum().to_dict(),\n",
    "    'final_columns': clean_df.dtypes.to_dict()\n",
    "}\n",
    "\n",
    "clean_summary"
   ]
  }
 ],
 "metadata": {},
 "nbformat": 4,
 "nbformat_minor": 5
}
